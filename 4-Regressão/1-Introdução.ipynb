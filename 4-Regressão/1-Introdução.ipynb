{
 "cells": [
  {
   "cell_type": "markdown",
   "metadata": {},
   "source": [
    "\n",
    "## Problemas de Regressão"
   ]
  },
  {
   "cell_type": "markdown",
   "metadata": {},
   "source": [
    "### Problemas de regressão envolvem prever um valor contínuo baseado em uma ou mais variáveis independentes. Ao contrário dos problemas de classificação, onde a saída é uma classe ou categoria, em problemas de regressão, a saída é um valor numérico. Modelos de regressão são usados em diversas áreas, incluindo economia, finanças, ciências naturais, engenharia e muitas outras, para prever valores como preços, temperaturas, pontuações, etc."
   ]
  },
  {
   "cell_type": "markdown",
   "metadata": {},
   "source": [
    "-------------------------------------------------------------------------------------------------------------------"
   ]
  },
  {
   "cell_type": "markdown",
   "metadata": {},
   "source": [
    "## Exemplos de Aplicação no Nosso Dataset"
   ]
  },
  {
   "cell_type": "markdown",
   "metadata": {},
   "source": [
    "### No contexto do dataset do SPAECE 2018, um exemplo de problema de regressão seria prever a \"PROFICIENCIA EM MATEMATICA\" dos estudantes com base em várias características como sexo, idade, formação dos pais, acesso à internet, e outras variáveis presentes no dataset."
   ]
  },
  {
   "cell_type": "markdown",
   "metadata": {},
   "source": [
    "----------------------------------------------------------------------------------------------------------------------"
   ]
  },
  {
   "cell_type": "markdown",
   "metadata": {},
   "source": [
    "## Modelos para Problemas de Regressão"
   ]
  },
  {
   "cell_type": "markdown",
   "metadata": {},
   "source": [
    "### 1-Regressão Linear:\n",
    "\n",
    "#### **Descrição**: Modelo simples e interpretável que assume uma relação linear entre as features e a target.\n",
    "#### **Aplicabilidade**: Funciona bem quando há uma relação linear ou quase linear entre as variáveis."
   ]
  },
  {
   "cell_type": "markdown",
   "metadata": {},
   "source": [
    "### 2-Árvores de Decisão (Decision Trees):\n",
    "\n",
    "#### **Descrição**: Divide os dados em subconjuntos com base em valores de features, criando uma estrutura de árvore.\n",
    "#### **Aplicabilidade**: Capaz de capturar relações não lineares e interações entre features."
   ]
  },
  {
   "cell_type": "markdown",
   "metadata": {},
   "source": [
    "### 3-K-Nearest Neighbors Regression (KNN):\n",
    "\n",
    "#### **Descrição**: Prediz o valor de um ponto com base nos valores dos k pontos mais próximos.\n",
    "#### **Aplicabilidade**: Simples e eficaz para pequenos conjuntos de dados com relações não lineares."
   ]
  },
  {
   "cell_type": "markdown",
   "metadata": {},
   "source": [
    "### 4-Multilayer Perceptron (MLP):\n",
    "\n",
    "#### **Descrição**: Rede neural feedforward com uma ou mais camadas ocultas. Utiliza backpropagation para ajustar os pesos durante o treinamento.\n",
    "#### **Aplicabilidade**: Capaz de capturar relações complexas e não lineares. Funciona bem com grandes conjuntos de dados e é altamente flexível devido ao ajuste dos hiperparâmetros, como número de camadas e neurônios por camada."
   ]
  },
  {
   "cell_type": "markdown",
   "metadata": {},
   "source": [
    "### 5-Support Vector Regression (SVR):\n",
    "\n",
    "#### **Descrição**: Extensão do Support Vector Machine para regressão, utilizando um conjunto de funções de base para criar um hiperplano de regressão.\n",
    "#### **Aplicabilidade**: Bom para problemas de alta dimensionalidade e quando a relação entre as variáveis não é linear."
   ]
  },
  {
   "cell_type": "markdown",
   "metadata": {},
   "source": [
    "----------------------------------------------------------------------------------------------------------------------"
   ]
  },
  {
   "cell_type": "markdown",
   "metadata": {},
   "source": [
    "## Métricas para Avaliação de Modelos de Regressão\n"
   ]
  },
  {
   "cell_type": "markdown",
   "metadata": {},
   "source": [
    "### Ao avaliar modelos de regressão, é importante utilizar métricas adequadas para medir a performance do modelo. Aqui estão algumas das métricas mais comuns e que iremos aplicar ao trabalho:"
   ]
  },
  {
   "cell_type": "markdown",
   "metadata": {},
   "source": [
    "### 1 - **Erro Quadrático Médio (MSE - Mean Squared Error)**"
   ]
  },
  {
   "cell_type": "markdown",
   "metadata": {},
   "source": [
    "####  O MSE mede a média dos quadrados dos erros, ou seja, a média das diferenças quadradas entre os valores previstos pelo modelo e os valores reais."
   ]
  },
  {
   "cell_type": "markdown",
   "metadata": {},
   "source": [
    "$$ MSE = \\frac{1}{n} \\sum_{i=1}^{n} (y_i - \\hat{y}_i)^2 $$"
   ]
  },
  {
   "cell_type": "markdown",
   "metadata": {},
   "source": [
    "#### **Vantagens**: Penaliza erros maiores mais severamente, útil para quando grandes erros são particularmente indesejáveis.\n",
    "#### **Desvantagens**: Sensível a outliers devido à penalização dos erros ao quadrado."
   ]
  },
  {
   "cell_type": "markdown",
   "metadata": {},
   "source": [
    "##"
   ]
  },
  {
   "cell_type": "markdown",
   "metadata": {},
   "source": [
    "### 2 - **Raiz do Erro Quadrático Médio (RMSE - Root Mean Squared Error)**"
   ]
  },
  {
   "cell_type": "markdown",
   "metadata": {},
   "source": [
    "#### O RMSE é a raiz quadrada do MSE. Ele traz a penalização dos erros quadrados para a mesma unidade dos dados originais, facilitando a interpretação."
   ]
  },
  {
   "cell_type": "markdown",
   "metadata": {},
   "source": [
    "$$ RMSE = \\sqrt{MSE} $$"
   ]
  },
  {
   "cell_type": "markdown",
   "metadata": {},
   "source": [
    "#### **Vantagens**: Facilita a interpretação por estar na mesma unidade dos valores previstos e reais.\n",
    "#### **Desvantagens**: Ainda é sensível a outliers."
   ]
  },
  {
   "cell_type": "markdown",
   "metadata": {},
   "source": [
    "##"
   ]
  },
  {
   "cell_type": "markdown",
   "metadata": {},
   "source": [
    "### 3 - **Erro Absoluto Médio (MAE - Mean Absolute Error)**"
   ]
  },
  {
   "cell_type": "markdown",
   "metadata": {},
   "source": [
    "#### O MAE mede a média dos valores absolutos dos erros, ou seja, a média das diferenças absolutas entre os valores previstos e os valores reais."
   ]
  },
  {
   "cell_type": "markdown",
   "metadata": {},
   "source": [
    "$$ MAE = \\frac{1}{n} \\sum_{i=1}^{n} |y_i - \\hat{y}_i| $$"
   ]
  },
  {
   "cell_type": "markdown",
   "metadata": {},
   "source": [
    "#### **Vantagens**: Menos sensível a outliers em comparação com o MSE e RMSE.\n",
    "#### **Desvantagens**: Não penaliza erros maiores tão severamente quanto o MSE e RMSE."
   ]
  },
  {
   "cell_type": "markdown",
   "metadata": {},
   "source": [
    "##"
   ]
  },
  {
   "cell_type": "markdown",
   "metadata": {},
   "source": [
    "### 4 - **Erro Percentual Absoluto Médio (MAPE - Mean Absolute Percentage Error)**"
   ]
  },
  {
   "cell_type": "markdown",
   "metadata": {},
   "source": [
    "#### O MAPE mede a média dos erros absolutos em termos percentuais, o que pode ser útil para comparar a performance do modelo em diferentes escalas."
   ]
  },
  {
   "cell_type": "markdown",
   "metadata": {},
   "source": [
    "$$ MAPE = \\frac{100\\%}{n} \\sum_{i=1}^{n} \\left| \\frac{y_i - \\hat{y}_i}{y_i} \\right| $$\n"
   ]
  },
  {
   "cell_type": "markdown",
   "metadata": {},
   "source": [
    "#### **Vantagens**: Expressa o erro como uma porcentagem, o que pode ser mais intuitivo.\n",
    "#### **Desvantagens**: Pode ser inflacionado por valores reais muito pequenos (denominador próximo de zero)."
   ]
  },
  {
   "cell_type": "markdown",
   "metadata": {},
   "source": [
    "##"
   ]
  },
  {
   "cell_type": "markdown",
   "metadata": {},
   "source": [
    "### 5 - **Coeficiente de Determinação (R² - R-Squared)**"
   ]
  },
  {
   "cell_type": "markdown",
   "metadata": {},
   "source": [
    "#### O R² mede a proporção da variabilidade nos dados que é explicada pelo modelo. Ele varia de 0 a 1, onde valores próximos de 1 indicam um modelo que explica bem a variabilidade dos dados."
   ]
  },
  {
   "cell_type": "markdown",
   "metadata": {},
   "source": [
    "$$ R^2 = 1 - \\frac{\\sum_{i=1}^{n} (y_i - \\hat{y}_i)^2}{\\sum_{i=1}^{n} (y_i - \\bar{y})^2} $$\n"
   ]
  },
  {
   "cell_type": "markdown",
   "metadata": {},
   "source": [
    "#### **Vantagens**: Fácil de interpretar, fornece uma indicação clara de quão bem o modelo explica os dados.\n",
    "#### **Desvantagens**: Pode ser enganador em casos de overfitting, pois pode ser alto mesmo quando o modelo está ajustado demais aos dados de treinamento."
   ]
  },
  {
   "cell_type": "markdown",
   "metadata": {},
   "source": [
    "----------------------------------------------------------------------------------------------------------------------------------------------------------"
   ]
  },
  {
   "cell_type": "markdown",
   "metadata": {},
   "source": [
    "## Passo a passo de implementação do modelo:"
   ]
  },
  {
   "cell_type": "markdown",
   "metadata": {},
   "source": [
    "#### 1 - Importar as bibliotecas necessárias: Vamos importar as bibliotecas pandas para manipulação de dados e scikit-learn para construir o modelo de árvore de decisão."
   ]
  },
  {
   "cell_type": "markdown",
   "metadata": {},
   "source": [
    "#### 2 - Carregar o dataset: Assumindo que o dataset está armazenado em um arquivo CSV, vamos carregá-lo."
   ]
  },
  {
   "cell_type": "markdown",
   "metadata": {},
   "source": [
    "#### 3 - Preparar os dados: Separar as variáveis independentes (features) e a variável dependente (target)."
   ]
  },
  {
   "cell_type": "markdown",
   "metadata": {},
   "source": [
    "#### 4 - Dividir o dataset em treino e teste: Dividir o dataset em conjunto de treino e teste para avaliar o desempenho do modelo."
   ]
  },
  {
   "cell_type": "markdown",
   "metadata": {},
   "source": [
    "#### 5 - Treinar o modelo. Ajustar o modelo de regressão com os dados de treino."
   ]
  },
  {
   "cell_type": "markdown",
   "metadata": {},
   "source": [
    "#### 6 - Avaliar o modelo: Avaliar o desempenho do modelo utilizando o conjunto de teste."
   ]
  },
  {
   "cell_type": "markdown",
   "metadata": {},
   "source": [
    "#### 7 - Ajustar os hiperparâmetros: Se necessário, ajustar os hiperparâmetros do modelo para melhorar o desempenho."
   ]
  }
 ],
 "metadata": {
  "language_info": {
   "name": "python"
  }
 },
 "nbformat": 4,
 "nbformat_minor": 2
}
