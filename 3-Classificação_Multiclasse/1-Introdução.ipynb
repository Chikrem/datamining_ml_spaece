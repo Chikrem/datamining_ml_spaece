{
 "cells": [
  {
   "cell_type": "markdown",
   "metadata": {},
   "source": [
    "## Problemas de Classificação\n",
    "\n",
    "### Problemas de classificação envolvem a previsão de categorias ou rótulos para novas observações com base em um conjunto de dados de treinamento. Ao contrário dos problemas de regressão, que prevêem valores contínuos, os problemas de classificação prevêem rótulos discretos."
   ]
  },
  {
   "cell_type": "markdown",
   "metadata": {},
   "source": [
    "----------------------------------------------------------------------------------------------"
   ]
  },
  {
   "cell_type": "markdown",
   "metadata": {},
   "source": [
    "## Exemplos de Aplicação no Nosso Dataset\n",
    "\n",
    "### No contexto do dataset do SPAECE 2018, podemos formular problemas de classificação para predizer uma categoria baseada em outras features. Por exemplo:\n",
    "\n",
    "#### **Previsão de Performance Acadêmica:** Classificar os alunos em categorias de desempenho com base em suas características e respostas ao questionário.\n",
    "#### **Previsão de Abandono Escolar:** Classificar se um aluno tem probabilidade de abandonar a escola com base nas características demográficas e educacionais."
   ]
  },
  {
   "cell_type": "markdown",
   "metadata": {},
   "source": [
    "----------------------------------------------------------------------------------------------------------------------------------"
   ]
  },
  {
   "cell_type": "markdown",
   "metadata": {},
   "source": [
    "## Modelos para Problemas de Classificação"
   ]
  },
  {
   "cell_type": "markdown",
   "metadata": {},
   "source": [
    "### 1-Árvores de Decisão (Decision Trees)\n",
    "#### **Vantagens:** Fácil de interpretar e visualizar, não requer muita preparação de dados, pode capturar relações não lineares.\n",
    "#### **Desvantagens:** Pode se tornar complexa e sobreajustada facilmente, especialmente com muitos dados."
   ]
  },
  {
   "cell_type": "markdown",
   "metadata": {},
   "source": [
    "### 2-Support Vector Machines (SVM)\n",
    "#### **Vantagens:** Eficaz em espaços de alta dimensão, usa um subconjunto de pontos de dados no conjunto de suporte, bom para margens claras de separação.\n",
    "#### **Desvantagens:** Não escala bem com grandes datasets, sensível à escolha dos hiperparâmetros."
   ]
  },
  {
   "cell_type": "markdown",
   "metadata": {},
   "source": [
    "### 3-K-Nearest Neighbors (KNN)\n",
    "#### **Vantagens:** Simples de implementar, não requer treinamento explícito, flexível ao escolher a função de distância.\n",
    "#### **Desvantagens:** Computacionalmente intensivo para grandes datasets, sensível ao ruído nos dados."
   ]
  },
  {
   "cell_type": "markdown",
   "metadata": {},
   "source": [
    "### 4-Naive Bayes\n",
    "#### **Vantagens:** Simples e rápido de treinar, eficaz para grandes datasets, funciona bem com dados categóricos.\n",
    "#### **Desvantagens:** Assume independência entre as features, o que pode não ser verdadeiro."
   ]
  },
  {
   "cell_type": "markdown",
   "metadata": {},
   "source": [
    "### 5-Perceptron Multicamadas (MLP)\n",
    "\n",
    "#### **Vantagens:** Capazes de capturar relações não lineares complexas, eficaz para dados com muitas features e classes, altamente flexível.\n",
    "#### **Desvantagens:** Requer mais dados e poder computacional, mais difícil de interpretar e ajustar, sensível à escolha dos hiperparâmetros e à arquitetura da rede."
   ]
  },
  {
   "cell_type": "markdown",
   "metadata": {},
   "source": [
    "---------------------------------------------------------------------------"
   ]
  },
  {
   "cell_type": "markdown",
   "metadata": {},
   "source": [
    "## Métricas para Avaliação de Modelos de Regressão\n",
    "\n",
    "### Ao avaliar modelos de classificação, é importante escolher métricas de desempenho apropriadas para entender como o modelo está se saindo em diferentes aspectos. As métricas e métodos de avaliação que iremos aplicar serão:"
   ]
  },
  {
   "cell_type": "markdown",
   "metadata": {},
   "source": [
    "### **1. Acurácia (Accuracy)**\n",
    "#### **Definição:** A porcentagem de previsões corretas sobre o total de previsões.\n",
    "#### **Fórmula:** $(TP+TN)/(TP+TN+FP+FN)$\n",
    "#### **Uso:** Boa métrica quando as classes estão balanceadas.\n",
    "#### **Limitações:** Pode ser enganosa em datasets desequilibrados, onde uma classe é muito mais frequente que outra."
   ]
  },
  {
   "cell_type": "markdown",
   "metadata": {},
   "source": [
    "### **2. Precisão (Precision)**\n",
    "#### **Definição:** A proporção de verdadeiros positivos (TP) sobre o total de previsões positivas (TP + FP).\n",
    "#### **Fórmula:** $TP/(TP+FP)$\n",
    "#### **Uso:** Importante quando o custo de um falso positivo é alto.\n",
    "#### **Limitações:** Pode ser baixa se houver muitos falsos positivos."
   ]
  },
  {
   "cell_type": "markdown",
   "metadata": {},
   "source": [
    "### **3. Revocação (Recall) ou Sensibilidade (Sensitivity)**\n",
    "#### **Definição:** A proporção de verdadeiros positivos sobre o total de verdadeiros positivos e falsos negativos (TP + FN).\n",
    "#### **Fórmula:** $TP/(TP+FN)$\n",
    "#### **Uso:** Importante quando o custo de um falso negativo é alto.\n",
    "#### **Limitações:** Pode ser baixa se houver muitos falsos negativos."
   ]
  },
  {
   "cell_type": "markdown",
   "metadata": {},
   "source": [
    "### **4. F1-Score**\n",
    "#### **Definição:** A média harmônica entre precisão e revocação.\n",
    "#### **Fórmula:** $F1 = 2 \\times \\frac{\\text{Precisão} \\times \\text{Revocação}}{\\text{Precisão} + \\text{Revocação}}$\n",
    "#### **Uso:** Útil quando há um trade-off entre precisão e revocação e uma visão equilibrada é necessária.\n",
    "#### **Limitações:** Não considera o verdadeiro negativo na fórmula."
   ]
  },
  {
   "cell_type": "markdown",
   "metadata": {},
   "source": [
    "### **5. Matriz de Confusão (Confusion Matrix)**\n",
    "#### **Definição:** Uma tabela que mostra as previsões do modelo contra os valores reais divididos em verdadeiros positivos, falsos positivos, verdadeiros negativos e falsos negativos.\n",
    "#### **Uso:** Oferece uma visão detalhada do desempenho do modelo.\n",
    "#### **Limitações:** Pode ser difícil de interpretar para conjuntos de dados muito grandes ou com muitas classes."
   ]
  },
  {
   "cell_type": "markdown",
   "metadata": {},
   "source": [
    "-------------------------------------------------------------------------------------------"
   ]
  }
 ],
 "metadata": {
  "language_info": {
   "name": "python"
  }
 },
 "nbformat": 4,
 "nbformat_minor": 2
}
