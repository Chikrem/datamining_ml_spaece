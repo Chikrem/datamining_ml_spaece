{
 "cells": [
  {
   "cell_type": "markdown",
   "metadata": {},
   "source": [
    "## Árvore de Decisão"
   ]
  },
  {
   "cell_type": "markdown",
   "metadata": {},
   "source": [
    "\n",
    "### Uma árvore de decisão é um modelo de aprendizagem de máquina usado para tarefas de classificação e regressão. No contexto de classificação multiclasse, a árvore de decisão é utilizada para prever a classe de uma instância entre várias classes possíveis. Abaixo está a explicação simplificada do funcionamento da árvore de decisão para classificação multiclasse:"
   ]
  },
  {
   "cell_type": "markdown",
   "metadata": {},
   "source": [
    "-------------------------------------------------------------------------------------------"
   ]
  },
  {
   "cell_type": "markdown",
   "metadata": {},
   "source": [
    "## Estrutura\n",
    "\n",
    "### **Nó Raiz:** O nó superior da árvore que representa o ponto de início da decisão.\n",
    "### **Nós Internos:** Nós que representam os atributos de entrada que são usados para tomar decisões.\n",
    "### **Folhas:** Nós terminais que representam a classe de saída. Em classificação multiclasse, cada folha é associada a uma classe específica."
   ]
  },
  {
   "cell_type": "markdown",
   "metadata": {},
   "source": [
    "-----------------------------------------------------------------------------------------------------------------------"
   ]
  },
  {
   "cell_type": "markdown",
   "metadata": {},
   "source": [
    "## Construção\n",
    "\n",
    "### A construção de uma árvore de decisão envolve dividir recursivamente o conjunto de dados de treinamento em subconjuntos menores até que cada subconjunto pertença a uma única classe ou não possa ser mais dividido de maneira significativa. O processo segue os seguintes passos:\n",
    "\n",
    "### **1 - Escolha do Atributo de Divisão:** Em cada nó, é escolhido um atributo para dividir os dados. A escolha é baseada em critérios como Ganho de Informação, Gini, ou Qui-quadrado. Esses critérios medem a pureza dos subconjuntos resultantes.\n",
    "#### -Ganho de Informação: Baseia-se na entropia. A entropia mede a desordem ou incerteza em um conjunto de dados. A divisão que resulta na maior redução de entropia é escolhida.\n",
    "#### -Índice de Gini: Mede a probabilidade de uma instância ser classificada incorretamente se for aleatoriamente rotulada de acordo com a distribuição das classes no subconjunto.\n",
    "#### -Qui-quadrado: Avalia a independência entre o atributo de divisão e a classe de saída.\n",
    "\n",
    "### **2 - Divisão dos Dados:** O atributo escolhido divide os dados em subconjuntos. Cada subconjunto é representado por um ramo do nó atual.\n",
    "\n",
    "### **3 - Recursão:** O processo de escolha de atributos e divisão dos dados é repetido recursivamente para cada subconjunto até que os nós se tornem folhas."
   ]
  },
  {
   "cell_type": "markdown",
   "metadata": {},
   "source": [
    "--------------------------------------------------------------------------------------------------------"
   ]
  },
  {
   "cell_type": "markdown",
   "metadata": {},
   "source": [
    "## Decisão de Parada\n",
    "### A recursão para quando ocorre uma das seguintes condições:\n",
    "\n",
    "#### -Todos os exemplos em um nó pertencem à mesma classe.\n",
    "#### -Não há mais atributos a serem divididos.\n",
    "#### -Um critério de parada predefinido é atingido, como a profundidade máxima da árvore ou o número mínimo de instâncias em um nó."
   ]
  },
  {
   "cell_type": "markdown",
   "metadata": {},
   "source": [
    "---------------------------------------------------------------------------------------------------------"
   ]
  },
  {
   "cell_type": "markdown",
   "metadata": {},
   "source": [
    "## Predição\n",
    "\n",
    "### Para fazer uma predição usando a árvore de decisão:\n",
    "\n",
    "#### -Começa-se no nó raiz.\n",
    "#### -Para cada nó, decide-se qual ramo seguir com base no valor do atributo correspondente na instância de entrada.\n",
    "#### -O processo continua até atingir uma folha.\n",
    "#### -A classe associada à folha é a predição da árvore."
   ]
  },
  {
   "cell_type": "markdown",
   "metadata": {},
   "source": [
    "------------------------------------------------------------------------------------------------------------------"
   ]
  },
  {
   "cell_type": "markdown",
   "metadata": {},
   "source": [
    "### Para treinar um modelo de árvore de decisão para a classificação multiclasse da coluna 'PROF_MATEMATICA_CATEG' usando o dataset CLASS.csv, vamos aplicar a seguinte metodologia:"
   ]
  },
  {
   "cell_type": "markdown",
   "metadata": {},
   "source": [
    "### **1-Importar as bibliotecas necessárias:**\n",
    "\n",
    "#### **pandas** para manipulação de dados.\n",
    "#### **train_test_split** do **sklearn.model_selection** para dividir o dataset em conjuntos de treino e teste.\n",
    "#### **DecisionTreeClassifier** do **sklearn.tree** para criar o modelo de árvore de decisão.\n",
    "#### **accuracy_score** do **sklearn.metrics** para avaliar a performance do modelo."
   ]
  },
  {
   "cell_type": "markdown",
   "metadata": {},
   "source": [
    "### **2-Carregar e preparar os dados:**\n",
    "\n",
    "#### Ler o arquivo CSV.\n",
    "#### Selecionar as colunas de interesse para a predição.\n",
    "#### Dividir os dados em características (features) e rótulos (labels).\n",
    "\n",
    "#### O dataset CLASS.csv é carregado e as colunas de interesse são selecionadas para as características (features) e o rótulo (label)."
   ]
  },
  {
   "cell_type": "markdown",
   "metadata": {},
   "source": [
    "### **3-Dividir os dados em conjuntos de treino e teste.**\n",
    "\n",
    "####  O dataset é dividido em conjuntos de treino e teste usando **train_test_split**, com 70% dos dados para treino e 30% para teste."
   ]
  },
  {
   "cell_type": "markdown",
   "metadata": {},
   "source": [
    "\n",
    "### **4-Treinar o modelo de árvore de decisão:**\n",
    "\n",
    "#### O modelo de árvore de decisão é criado e treinado com os dados de treino.\n"
   ]
  },
  {
   "cell_type": "markdown",
   "metadata": {},
   "source": [
    "### **5-Fazer previsões e avaliar o modelo:**\n",
    "\n",
    "#### O modelo faz previsões no conjunto de teste e a acurácia das previsões é calculada e impressa."
   ]
  },
  {
   "cell_type": "markdown",
   "metadata": {},
   "source": [
    "----------------------------------------------------------------------------------------------------------------------------------------------------------------------------------------------------------------------------------------------------------------"
   ]
  },
  {
   "cell_type": "code",
   "execution_count": 1,
   "metadata": {},
   "outputs": [],
   "source": [
    "# Importar as bibliotecas necessárias\n",
    "import pandas as pd\n",
    "from sklearn.model_selection import train_test_split, cross_val_score, cross_validate\n",
    "from sklearn.tree import DecisionTreeClassifier\n",
    "from sklearn.metrics import accuracy_score, confusion_matrix, classification_report\n"
   ]
  },
  {
   "cell_type": "code",
   "execution_count": 2,
   "metadata": {},
   "outputs": [],
   "source": [
    "# Carregar o dataset\n",
    "gnetDf = pd.read_csv(\"datasets/CLASS.csv\")"
   ]
  },
  {
   "cell_type": "code",
   "execution_count": 3,
   "metadata": {},
   "outputs": [
    {
     "data": {
      "text/html": [
       "<div>\n",
       "<style scoped>\n",
       "    .dataframe tbody tr th:only-of-type {\n",
       "        vertical-align: middle;\n",
       "    }\n",
       "\n",
       "    .dataframe tbody tr th {\n",
       "        vertical-align: top;\n",
       "    }\n",
       "\n",
       "    .dataframe thead th {\n",
       "        text-align: right;\n",
       "    }\n",
       "</style>\n",
       "<table border=\"1\" class=\"dataframe\">\n",
       "  <thead>\n",
       "    <tr style=\"text-align: right;\">\n",
       "      <th></th>\n",
       "      <th>SEXO_CATEG</th>\n",
       "      <th>IDADE_CATEG</th>\n",
       "      <th>FORMACAO_MAE_CATEG</th>\n",
       "      <th>FORMACAO_PAI_CATEG</th>\n",
       "      <th>ACESSO_INTERNET_CATEG</th>\n",
       "      <th>NUMERO_COMPUTADORES_CATEG</th>\n",
       "      <th>INICIOU_ESTUDOS_CATEG</th>\n",
       "      <th>ENSINO_FUNDAMENTAL_CATEG</th>\n",
       "      <th>REPROVOU_CATEG</th>\n",
       "      <th>ABANDONOU_CATEG</th>\n",
       "      <th>GESTAO_CATEG</th>\n",
       "      <th>DUVIDAS_CATEG</th>\n",
       "      <th>CORRIGEM_CATEG</th>\n",
       "      <th>TURNO_ESCOLAR_CATEG</th>\n",
       "      <th>PONTOS_PORTUGUES_CATEG</th>\n",
       "      <th>PONTOS_MATEMATICA_CATEG</th>\n",
       "      <th>PROF_PORTUGUES_CATEG</th>\n",
       "      <th>PROF_MATEMATICA_CATEG</th>\n",
       "    </tr>\n",
       "  </thead>\n",
       "  <tbody>\n",
       "    <tr>\n",
       "      <th>0</th>\n",
       "      <td>1</td>\n",
       "      <td>17</td>\n",
       "      <td>1</td>\n",
       "      <td>3</td>\n",
       "      <td>0</td>\n",
       "      <td>1</td>\n",
       "      <td>3</td>\n",
       "      <td>1</td>\n",
       "      <td>0</td>\n",
       "      <td>0</td>\n",
       "      <td>2</td>\n",
       "      <td>2</td>\n",
       "      <td>2</td>\n",
       "      <td>2</td>\n",
       "      <td>3</td>\n",
       "      <td>2</td>\n",
       "      <td>3</td>\n",
       "      <td>2</td>\n",
       "    </tr>\n",
       "    <tr>\n",
       "      <th>1</th>\n",
       "      <td>1</td>\n",
       "      <td>18</td>\n",
       "      <td>0</td>\n",
       "      <td>3</td>\n",
       "      <td>0</td>\n",
       "      <td>1</td>\n",
       "      <td>5</td>\n",
       "      <td>1</td>\n",
       "      <td>0</td>\n",
       "      <td>0</td>\n",
       "      <td>2</td>\n",
       "      <td>3</td>\n",
       "      <td>3</td>\n",
       "      <td>2</td>\n",
       "      <td>4</td>\n",
       "      <td>2</td>\n",
       "      <td>3</td>\n",
       "      <td>3</td>\n",
       "    </tr>\n",
       "    <tr>\n",
       "      <th>2</th>\n",
       "      <td>1</td>\n",
       "      <td>17</td>\n",
       "      <td>0</td>\n",
       "      <td>3</td>\n",
       "      <td>0</td>\n",
       "      <td>1</td>\n",
       "      <td>5</td>\n",
       "      <td>1</td>\n",
       "      <td>0</td>\n",
       "      <td>0</td>\n",
       "      <td>3</td>\n",
       "      <td>2</td>\n",
       "      <td>2</td>\n",
       "      <td>2</td>\n",
       "      <td>2</td>\n",
       "      <td>2</td>\n",
       "      <td>2</td>\n",
       "      <td>2</td>\n",
       "    </tr>\n",
       "    <tr>\n",
       "      <th>3</th>\n",
       "      <td>1</td>\n",
       "      <td>17</td>\n",
       "      <td>0</td>\n",
       "      <td>3</td>\n",
       "      <td>0</td>\n",
       "      <td>1</td>\n",
       "      <td>3</td>\n",
       "      <td>3</td>\n",
       "      <td>0</td>\n",
       "      <td>0</td>\n",
       "      <td>1</td>\n",
       "      <td>1</td>\n",
       "      <td>1</td>\n",
       "      <td>2</td>\n",
       "      <td>4</td>\n",
       "      <td>2</td>\n",
       "      <td>3</td>\n",
       "      <td>2</td>\n",
       "    </tr>\n",
       "    <tr>\n",
       "      <th>4</th>\n",
       "      <td>2</td>\n",
       "      <td>17</td>\n",
       "      <td>0</td>\n",
       "      <td>3</td>\n",
       "      <td>0</td>\n",
       "      <td>1</td>\n",
       "      <td>5</td>\n",
       "      <td>1</td>\n",
       "      <td>0</td>\n",
       "      <td>0</td>\n",
       "      <td>2</td>\n",
       "      <td>2</td>\n",
       "      <td>2</td>\n",
       "      <td>2</td>\n",
       "      <td>4</td>\n",
       "      <td>2</td>\n",
       "      <td>4</td>\n",
       "      <td>2</td>\n",
       "    </tr>\n",
       "    <tr>\n",
       "      <th>...</th>\n",
       "      <td>...</td>\n",
       "      <td>...</td>\n",
       "      <td>...</td>\n",
       "      <td>...</td>\n",
       "      <td>...</td>\n",
       "      <td>...</td>\n",
       "      <td>...</td>\n",
       "      <td>...</td>\n",
       "      <td>...</td>\n",
       "      <td>...</td>\n",
       "      <td>...</td>\n",
       "      <td>...</td>\n",
       "      <td>...</td>\n",
       "      <td>...</td>\n",
       "      <td>...</td>\n",
       "      <td>...</td>\n",
       "      <td>...</td>\n",
       "      <td>...</td>\n",
       "    </tr>\n",
       "    <tr>\n",
       "      <th>52489</th>\n",
       "      <td>1</td>\n",
       "      <td>17</td>\n",
       "      <td>3</td>\n",
       "      <td>1</td>\n",
       "      <td>1</td>\n",
       "      <td>2</td>\n",
       "      <td>7</td>\n",
       "      <td>2</td>\n",
       "      <td>0</td>\n",
       "      <td>1</td>\n",
       "      <td>0</td>\n",
       "      <td>1</td>\n",
       "      <td>1</td>\n",
       "      <td>4</td>\n",
       "      <td>3</td>\n",
       "      <td>2</td>\n",
       "      <td>3</td>\n",
       "      <td>2</td>\n",
       "    </tr>\n",
       "    <tr>\n",
       "      <th>52490</th>\n",
       "      <td>1</td>\n",
       "      <td>19</td>\n",
       "      <td>3</td>\n",
       "      <td>1</td>\n",
       "      <td>1</td>\n",
       "      <td>2</td>\n",
       "      <td>5</td>\n",
       "      <td>3</td>\n",
       "      <td>0</td>\n",
       "      <td>0</td>\n",
       "      <td>3</td>\n",
       "      <td>3</td>\n",
       "      <td>3</td>\n",
       "      <td>4</td>\n",
       "      <td>5</td>\n",
       "      <td>2</td>\n",
       "      <td>4</td>\n",
       "      <td>3</td>\n",
       "    </tr>\n",
       "    <tr>\n",
       "      <th>52491</th>\n",
       "      <td>2</td>\n",
       "      <td>19</td>\n",
       "      <td>3</td>\n",
       "      <td>1</td>\n",
       "      <td>1</td>\n",
       "      <td>2</td>\n",
       "      <td>5</td>\n",
       "      <td>1</td>\n",
       "      <td>0</td>\n",
       "      <td>1</td>\n",
       "      <td>3</td>\n",
       "      <td>2</td>\n",
       "      <td>1</td>\n",
       "      <td>4</td>\n",
       "      <td>5</td>\n",
       "      <td>2</td>\n",
       "      <td>4</td>\n",
       "      <td>2</td>\n",
       "    </tr>\n",
       "    <tr>\n",
       "      <th>52492</th>\n",
       "      <td>2</td>\n",
       "      <td>18</td>\n",
       "      <td>3</td>\n",
       "      <td>1</td>\n",
       "      <td>1</td>\n",
       "      <td>2</td>\n",
       "      <td>5</td>\n",
       "      <td>1</td>\n",
       "      <td>0</td>\n",
       "      <td>0</td>\n",
       "      <td>2</td>\n",
       "      <td>2</td>\n",
       "      <td>2</td>\n",
       "      <td>4</td>\n",
       "      <td>4</td>\n",
       "      <td>2</td>\n",
       "      <td>4</td>\n",
       "      <td>2</td>\n",
       "    </tr>\n",
       "    <tr>\n",
       "      <th>52493</th>\n",
       "      <td>2</td>\n",
       "      <td>17</td>\n",
       "      <td>3</td>\n",
       "      <td>1</td>\n",
       "      <td>1</td>\n",
       "      <td>2</td>\n",
       "      <td>3</td>\n",
       "      <td>1</td>\n",
       "      <td>0</td>\n",
       "      <td>0</td>\n",
       "      <td>3</td>\n",
       "      <td>3</td>\n",
       "      <td>3</td>\n",
       "      <td>4</td>\n",
       "      <td>5</td>\n",
       "      <td>2</td>\n",
       "      <td>4</td>\n",
       "      <td>3</td>\n",
       "    </tr>\n",
       "  </tbody>\n",
       "</table>\n",
       "<p>52494 rows × 18 columns</p>\n",
       "</div>"
      ],
      "text/plain": [
       "       SEXO_CATEG  IDADE_CATEG  FORMACAO_MAE_CATEG  FORMACAO_PAI_CATEG  \\\n",
       "0               1           17                   1                   3   \n",
       "1               1           18                   0                   3   \n",
       "2               1           17                   0                   3   \n",
       "3               1           17                   0                   3   \n",
       "4               2           17                   0                   3   \n",
       "...           ...          ...                 ...                 ...   \n",
       "52489           1           17                   3                   1   \n",
       "52490           1           19                   3                   1   \n",
       "52491           2           19                   3                   1   \n",
       "52492           2           18                   3                   1   \n",
       "52493           2           17                   3                   1   \n",
       "\n",
       "       ACESSO_INTERNET_CATEG  NUMERO_COMPUTADORES_CATEG  \\\n",
       "0                          0                          1   \n",
       "1                          0                          1   \n",
       "2                          0                          1   \n",
       "3                          0                          1   \n",
       "4                          0                          1   \n",
       "...                      ...                        ...   \n",
       "52489                      1                          2   \n",
       "52490                      1                          2   \n",
       "52491                      1                          2   \n",
       "52492                      1                          2   \n",
       "52493                      1                          2   \n",
       "\n",
       "       INICIOU_ESTUDOS_CATEG  ENSINO_FUNDAMENTAL_CATEG  REPROVOU_CATEG  \\\n",
       "0                          3                         1               0   \n",
       "1                          5                         1               0   \n",
       "2                          5                         1               0   \n",
       "3                          3                         3               0   \n",
       "4                          5                         1               0   \n",
       "...                      ...                       ...             ...   \n",
       "52489                      7                         2               0   \n",
       "52490                      5                         3               0   \n",
       "52491                      5                         1               0   \n",
       "52492                      5                         1               0   \n",
       "52493                      3                         1               0   \n",
       "\n",
       "       ABANDONOU_CATEG  GESTAO_CATEG  DUVIDAS_CATEG  CORRIGEM_CATEG  \\\n",
       "0                    0             2              2               2   \n",
       "1                    0             2              3               3   \n",
       "2                    0             3              2               2   \n",
       "3                    0             1              1               1   \n",
       "4                    0             2              2               2   \n",
       "...                ...           ...            ...             ...   \n",
       "52489                1             0              1               1   \n",
       "52490                0             3              3               3   \n",
       "52491                1             3              2               1   \n",
       "52492                0             2              2               2   \n",
       "52493                0             3              3               3   \n",
       "\n",
       "       TURNO_ESCOLAR_CATEG  PONTOS_PORTUGUES_CATEG  PONTOS_MATEMATICA_CATEG  \\\n",
       "0                        2                       3                        2   \n",
       "1                        2                       4                        2   \n",
       "2                        2                       2                        2   \n",
       "3                        2                       4                        2   \n",
       "4                        2                       4                        2   \n",
       "...                    ...                     ...                      ...   \n",
       "52489                    4                       3                        2   \n",
       "52490                    4                       5                        2   \n",
       "52491                    4                       5                        2   \n",
       "52492                    4                       4                        2   \n",
       "52493                    4                       5                        2   \n",
       "\n",
       "       PROF_PORTUGUES_CATEG  PROF_MATEMATICA_CATEG  \n",
       "0                         3                      2  \n",
       "1                         3                      3  \n",
       "2                         2                      2  \n",
       "3                         3                      2  \n",
       "4                         4                      2  \n",
       "...                     ...                    ...  \n",
       "52489                     3                      2  \n",
       "52490                     4                      3  \n",
       "52491                     4                      2  \n",
       "52492                     4                      2  \n",
       "52493                     4                      3  \n",
       "\n",
       "[52494 rows x 18 columns]"
      ]
     },
     "execution_count": 3,
     "metadata": {},
     "output_type": "execute_result"
    }
   ],
   "source": [
    "gnetDf"
   ]
  },
  {
   "cell_type": "code",
   "execution_count": 4,
   "metadata": {},
   "outputs": [
    {
     "name": "stdout",
     "output_type": "stream",
     "text": [
      "<class 'pandas.core.frame.DataFrame'>\n",
      "RangeIndex: 52494 entries, 0 to 52493\n",
      "Data columns (total 18 columns):\n",
      " #   Column                     Non-Null Count  Dtype\n",
      "---  ------                     --------------  -----\n",
      " 0   SEXO_CATEG                 52494 non-null  int64\n",
      " 1   IDADE_CATEG                52494 non-null  int64\n",
      " 2   FORMACAO_MAE_CATEG         52494 non-null  int64\n",
      " 3   FORMACAO_PAI_CATEG         52494 non-null  int64\n",
      " 4   ACESSO_INTERNET_CATEG      52494 non-null  int64\n",
      " 5   NUMERO_COMPUTADORES_CATEG  52494 non-null  int64\n",
      " 6   INICIOU_ESTUDOS_CATEG      52494 non-null  int64\n",
      " 7   ENSINO_FUNDAMENTAL_CATEG   52494 non-null  int64\n",
      " 8   REPROVOU_CATEG             52494 non-null  int64\n",
      " 9   ABANDONOU_CATEG            52494 non-null  int64\n",
      " 10  GESTAO_CATEG               52494 non-null  int64\n",
      " 11  DUVIDAS_CATEG              52494 non-null  int64\n",
      " 12  CORRIGEM_CATEG             52494 non-null  int64\n",
      " 13  TURNO_ESCOLAR_CATEG        52494 non-null  int64\n",
      " 14  PONTOS_PORTUGUES_CATEG     52494 non-null  int64\n",
      " 15  PONTOS_MATEMATICA_CATEG    52494 non-null  int64\n",
      " 16  PROF_PORTUGUES_CATEG       52494 non-null  int64\n",
      " 17  PROF_MATEMATICA_CATEG      52494 non-null  int64\n",
      "dtypes: int64(18)\n",
      "memory usage: 7.2 MB\n"
     ]
    }
   ],
   "source": [
    "gnetDf.info()"
   ]
  },
  {
   "cell_type": "code",
   "execution_count": 5,
   "metadata": {},
   "outputs": [],
   "source": [
    "# Selecionar as colunas de interesse\n",
    "features = ['SEXO_CATEG', 'IDADE_CATEG', 'FORMACAO_MAE_CATEG', 'FORMACAO_PAI_CATEG', 'ACESSO_INTERNET_CATEG',\n",
    "            'NUMERO_COMPUTADORES_CATEG', 'INICIOU_ESTUDOS_CATEG', 'ENSINO_FUNDAMENTAL_CATEG', 'REPROVOU_CATEG',\n",
    "            'ABANDONOU_CATEG', 'GESTAO_CATEG', 'DUVIDAS_CATEG', 'CORRIGEM_CATEG',\n",
    "            'PONTOS_PORTUGUES_CATEG', 'PONTOS_MATEMATICA_CATEG', 'PROF_PORTUGUES_CATEG', 'TURNO_ESCOLAR_CATEG']\n",
    "\n",
    "# Retirar 'PONTOS_MATEMATICA_CATEG' por conta do viés com a coluna target"
   ]
  },
  {
   "cell_type": "code",
   "execution_count": 6,
   "metadata": {},
   "outputs": [],
   "source": [
    "X = gnetDf[features]\n",
    "y = gnetDf['PROF_MATEMATICA_CATEG']\n",
    "\n",
    "# Dividir os dados em conjuntos de treino e teste\n",
    "X_train, X_test, y_train, y_test = train_test_split(X, y, test_size=0.1, random_state=42)"
   ]
  },
  {
   "cell_type": "code",
   "execution_count": 7,
   "metadata": {},
   "outputs": [],
   "source": [
    "# Criar o modelo de árvore de decisão com os parâmetros especificados\n",
    "model = DecisionTreeClassifier(\n",
    "    criterion='entropy',\n",
    "    min_samples_leaf=2,\n",
    "    min_samples_split=5,\n",
    "    max_depth=100,\n",
    "    random_state=42\n",
    ")"
   ]
  },
  {
   "cell_type": "code",
   "execution_count": 8,
   "metadata": {},
   "outputs": [],
   "source": [
    "# Treinar o modelo com validação cruzada\n",
    "cv_results = cross_validate(model, X_train, y_train, cv=10, return_train_score=True)"
   ]
  },
  {
   "cell_type": "code",
   "execution_count": 9,
   "metadata": {},
   "outputs": [
    {
     "name": "stdout",
     "output_type": "stream",
     "text": [
      "Train Accuracy: 0.84 ± 0.00\n",
      "Validation Accuracy: 0.54 ± 0.01\n"
     ]
    }
   ],
   "source": [
    "# Exibir os resultados da validação cruzada\n",
    "print(f\"Train Accuracy: {cv_results['train_score'].mean():.2f} ± {cv_results['train_score'].std():.2f}\")\n",
    "print(f\"Validation Accuracy: {cv_results['test_score'].mean():.2f} ± {cv_results['test_score'].std():.2f}\")"
   ]
  },
  {
   "cell_type": "code",
   "execution_count": 10,
   "metadata": {},
   "outputs": [],
   "source": [
    "# Treinar o modelo com todos os dados de treino\n",
    "model.fit(X_train, y_train)\n",
    "\n",
    "# Fazer previsões no conjunto de teste\n",
    "y_pred = model.predict(X_test)"
   ]
  },
  {
   "cell_type": "code",
   "execution_count": 11,
   "metadata": {},
   "outputs": [
    {
     "name": "stdout",
     "output_type": "stream",
     "text": [
      "Acurácia no conjunto de teste: 0.55\n"
     ]
    }
   ],
   "source": [
    "# Avaliar o modelo\n",
    "accuracy = accuracy_score(y_test, y_pred)\n",
    "print(f'Acurácia no conjunto de teste: {accuracy:.2f}')"
   ]
  },
  {
   "cell_type": "code",
   "execution_count": 12,
   "metadata": {},
   "outputs": [
    {
     "name": "stdout",
     "output_type": "stream",
     "text": [
      "Matriz de Confusão:\n",
      "[[ 723  494   30    0    0]\n",
      " [ 631 1363  312    9    0]\n",
      " [  54  417  466  143    0]\n",
      " [   1   14  182  245   48]\n",
      " [   0    0    0   40   78]]\n"
     ]
    }
   ],
   "source": [
    "# Calcular a matriz de confusão\n",
    "conf_matrix = confusion_matrix(y_test, y_pred)\n",
    "\n",
    "# Imprimir a matriz de confusão\n",
    "print('Matriz de Confusão:')\n",
    "print(conf_matrix)"
   ]
  },
  {
   "cell_type": "code",
   "execution_count": 13,
   "metadata": {},
   "outputs": [
    {
     "name": "stdout",
     "output_type": "stream",
     "text": [
      "Relatório de Classificação:\n",
      "              precision    recall  f1-score   support\n",
      "\n",
      "           1       0.51      0.58      0.54      1247\n",
      "           2       0.60      0.59      0.59      2315\n",
      "           3       0.47      0.43      0.45      1080\n",
      "           4       0.56      0.50      0.53       490\n",
      "           5       0.62      0.66      0.64       118\n",
      "\n",
      "    accuracy                           0.55      5250\n",
      "   macro avg       0.55      0.55      0.55      5250\n",
      "weighted avg       0.55      0.55      0.55      5250\n",
      "\n"
     ]
    }
   ],
   "source": [
    "# Imprimir o relatório de classificação\n",
    "print('Relatório de Classificação:')\n",
    "print(classification_report(y_test, y_pred, target_names=['1', '2', '3', '4','5']))"
   ]
  },
  {
   "cell_type": "code",
   "execution_count": 14,
   "metadata": {},
   "outputs": [
    {
     "data": {
      "image/png": "[encoded data removed]",
      "text/plain": [
       "<Figure size 1000x700 with 2 Axes>"
      ]
     },
     "metadata": {},
     "output_type": "display_data"
    }
   ],
   "source": [
    "# Visualizar a matriz de confusão usando seaborn\n",
    "import seaborn as sns\n",
    "import matplotlib.pyplot as plt\n",
    "\n",
    "plt.figure(figsize=(10,7))\n",
    "sns.heatmap(conf_matrix, annot=True, fmt='d', cmap='Blues', xticklabels=['1', '2', '3','4' ,'5'], yticklabels=['1', '2', '3','4' ,'5'])\n",
    "plt.xlabel('Predicted')\n",
    "plt.ylabel('Actual')\n",
    "plt.title('Confusion Matrix')\n",
    "plt.show()"
   ]
  },
  {
   "cell_type": "code",
   "execution_count": 15,
   "metadata": {},
   "outputs": [],
   "source": [
    "# Visualizar a árvore de decisão\n",
    "from sklearn.tree import plot_tree\n",
    "\n",
    "\n",
    "plt.figure(figsize=(20,10))\n",
    "plot_tree(model, feature_names=features, class_names=['1', '2', '3', '4', '5'], filled=True, rounded=True, fontsize=10)\n",
    "plt.title('Decision Tree')\n",
    "plt.show()"
   ]
  }
 ],
 "metadata": {
  "kernelspec": {
   "display_name": "Python 3",
   "language": "python",
   "name": "python3"
  },
  "language_info": {
   "codemirror_mode": {
    "name": "ipython",
    "version": 3
   },
   "file_extension": ".py",
   "mimetype": "text/x-python",
   "name": "python",
   "nbconvert_exporter": "python",
   "pygments_lexer": "ipython3",
   "version": "3.12.4"
  }
 },
 "nbformat": 4,
 "nbformat_minor": 2
}
