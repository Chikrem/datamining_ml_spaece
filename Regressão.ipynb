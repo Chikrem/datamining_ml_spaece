{
 "cells": [
  {
   "cell_type": "markdown",
   "metadata": {},
   "source": [
    "## Passo 5: Aplicando as Features Selecionadas em Algoritmos de ML"
   ]
  },
  {
   "cell_type": "markdown",
   "metadata": {},
   "source": [
    "##### Para problemas de regressão e classificação, há uma variedade de modelos que podem ser aplicados aos nossos dados. A escolha dos modelos depende das características dos dados e dos objetivos específicos da análise. Para este experimento iremos aplicar:"
   ]
  },
  {
   "cell_type": "markdown",
   "metadata": {},
   "source": [
    "### 5.1 - Modelos para Problemas de Regressão"
   ]
  },
  {
   "cell_type": "markdown",
   "metadata": {},
   "source": [
    "##### 1 - Regressão Linear:\n",
    "\n",
    "##### - Descrição: Modelo simples e interpretável que assume uma relação linear entre as features e a target.\n",
    "##### - Aplicabilidade: Funciona bem quando há uma relação linear ou quase linear entre as variáveis.\n",
    "\n",
    "#####\n",
    "\n"
   ]
  },
  {
   "cell_type": "markdown",
   "metadata": {},
   "source": [
    "##### 2 - Árvores de Decisão (Decision Trees):\n",
    "\n",
    "##### - Descrição: Divide os dados em subconjuntos com base em valores de features, criando uma estrutura de árvore.\n",
    "##### - Aplicabilidade: Capaz de capturar relações não lineares e interações entre features.\n",
    "\n"
   ]
  },
  {
   "cell_type": "markdown",
   "metadata": {},
   "source": [
    "#####\n",
    "\n",
    "##### 3 - K-Nearest Neighbors Regression (KNN):\n",
    "\n",
    "##### - Descrição: Prediz o valor de um ponto com base nos valores dos k pontos mais próximos.\n",
    "##### - Aplicabilidade: Simples e eficaz para pequenos conjuntos de dados com relações não lineares.\n",
    "\n"
   ]
  },
  {
   "cell_type": "markdown",
   "metadata": {},
   "source": [
    "#####\n",
    "\n",
    "##### 4 - Multilayer Perceptron (MLP):\n",
    "\n",
    "##### - Descrição: Rede neural 'feedforward' com uma ou mais camadas ocultas. Utiliza 'backpropagation' para ajustar os pesos durante o treinamento.\n",
    "##### - Aplicabilidade: Capaz de capturar relações complexas e não lineares. Funciona bem com grandes conjuntos de dados e é altamente flexível devido ao ajuste dos hiperparâmetros, como número de camadas e neurônios por camada."
   ]
  }
 ],
 "metadata": {
  "language_info": {
   "name": "python"
  }
 },
 "nbformat": 4,
 "nbformat_minor": 2
}
