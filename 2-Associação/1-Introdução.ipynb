{
 "cells": [
  {
   "cell_type": "markdown",
   "metadata": {},
   "source": [
    "## Mineração de Dados com Algoritmos de Associação"
   ]
  },
  {
   "cell_type": "markdown",
   "metadata": {},
   "source": [
    "### A mineração de dados com algoritmos de associação é uma técnica utilizada para descobrir relações interessantes, padrões ou regras de associação entre conjuntos de itens em grandes bases de dados. Esse processo é especialmente útil em contextos como análise de mercado, cestas de compras, detecção de fraudes, e muitas outras áreas onde a identificação de padrões ocultos pode fornecer dados importantes."
   ]
  },
  {
   "cell_type": "markdown",
   "metadata": {},
   "source": [
    "-------------------------------------------------------------------------------------------------------------------------"
   ]
  },
  {
   "cell_type": "markdown",
   "metadata": {},
   "source": [
    "## Algoritmos de Associação"
   ]
  },
  {
   "cell_type": "markdown",
   "metadata": {},
   "source": [
    "### Os algoritmos de associação mais comuns incluem:\n",
    "\n",
    "### **1- Apriori:** Este algoritmo é baseado na propriedade \"antimonotona\" da regra de associação, que afirma que se um itemset é frequente, então todos os seus subconjuntos são frequentes. O Apriori utiliza um processo iterativo para encontrar os itemsets frequentes e gerar regras de associação."
   ]
  },
  {
   "cell_type": "markdown",
   "metadata": {},
   "source": [
    "### **2-FP-Growth (Frequent Pattern Growth):** Este algoritmo utiliza uma estrutura de árvore (FP-tree) para armazenar informações de frequência de itemsets de forma compacta. Ele é mais eficiente do que o Apriori, especialmente em grandes bases de dados, pois evita a geração de candidatos desnecessários."
   ]
  },
  {
   "cell_type": "markdown",
   "metadata": {},
   "source": [
    "------------------------------------------------------------------------------------------\n"
   ]
  },
  {
   "cell_type": "markdown",
   "metadata": {},
   "source": [
    "## Aplicação no Dataset SPAECE 2018\n",
    "### Vamos ver como podemos aplicar esses algoritmos ao dataset do SPAECE 2018. Suponha que queremos descobrir regras de associação entre diferentes características dos alunos (como \"SEXO\", \"IDADE\", \"FORMAÇÃO DA MÃE\", etc.) e suas proficiências em matemática e português."
   ]
  },
  {
   "cell_type": "markdown",
   "metadata": {},
   "source": [
    "--------------------------------------------------------------------------------------------------------------------------------------------------"
   ]
  },
  {
   "cell_type": "markdown",
   "metadata": {},
   "source": [
    "## Metodologia"
   ]
  },
  {
   "cell_type": "markdown",
   "metadata": {},
   "source": [
    "### **Pré-processamento dos Dados:** Transformar os dados num formato adequado para a aplicação dos algoritmos de associação.\n",
    "### **Aplicação do Algoritmo Apriori:** Utilizar a biblioteca mlxtend para aplicar o algoritmo Apriori e extrair regras de associação.\n",
    "### **Interpretação dos Resultados:** Analisar as regras descobertas e interpretar os resultados."
   ]
  },
  {
   "cell_type": "markdown",
   "metadata": {},
   "source": [
    "-------------------------------------------------------------------------------------------------------------------------------------------------------------------------------------------------------------------------------------------"
   ]
  },
  {
   "cell_type": "markdown",
   "metadata": {},
   "source": [
    "## Interpretação de resultados"
   ]
  },
  {
   "cell_type": "markdown",
   "metadata": {},
   "source": [
    "### Os resultados incluirão regras como:\n",
    "\n",
    "### **-Support:** A proporção de transações que contém o itemset.\n",
    "### **-Confidence:** A confiança da regra, ou seja, a proporção de transações que contém o antecedente e o consequente.\n",
    "### **-Lift:** A razão de confiança para a regra em comparação com a confiança esperada se os antecedentes e os consequentes fossem independentes."
   ]
  },
  {
   "cell_type": "markdown",
   "metadata": {},
   "source": [
    "### **EXEMPLO**"
   ]
  },
  {
   "cell_type": "markdown",
   "metadata": {},
   "source": [
    "###    antecedents  /  consequents / support / confidence / lift\n",
    "### 0  {IDADE=17} / {PROFICIENCIA=3} / 0.15   /   0.80   /   1.33\n"
   ]
  },
  {
   "cell_type": "markdown",
   "metadata": {},
   "source": [
    "### Esta regra poderia ser interpretada como: \"Se a idade do aluno é 17, há uma confiança de 80% de que a proficiência é 3, e essa relação é 1.33 vezes mais provável do que se esses eventos fossem independentes\"."
   ]
  },
  {
   "cell_type": "markdown",
   "metadata": {},
   "source": [
    "### Algoritmos de associação, como Apriori, são ferramentas poderosas para descobrir padrões ocultos em grandes conjuntos de dados. No contexto do dataset SPAECE 2018, essas técnicas podem ser usadas para explorar e identificar associações entre características dos alunos e suas proficiências acadêmicas, fornecendo insights valiosos para educadores e formuladores de políticas.\n",
    "\n",
    "\n",
    "\n",
    "\n",
    "\n",
    "\n"
   ]
  },
  {
   "cell_type": "markdown",
   "metadata": {},
   "source": [
    "----------------------------------------------------"
   ]
  }
 ],
 "metadata": {
  "language_info": {
   "name": "python"
  }
 },
 "nbformat": 4,
 "nbformat_minor": 2
}
