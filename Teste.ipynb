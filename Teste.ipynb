{
 "cells": [
  {
   "cell_type": "code",
   "execution_count": 1,
   "metadata": {},
   "outputs": [
    {
     "name": "stdout",
     "output_type": "stream",
     "text": [
      "Collecting pandas\n",
      "  Downloading pandas-2.2.2-cp312-cp312-win_amd64.whl.metadata (19 kB)\n",
      "Collecting numpy>=1.26.0 (from pandas)\n",
      "  Downloading numpy-1.26.4-cp312-cp312-win_amd64.whl.metadata (61 kB)\n",
      "     ---------------------------------------- 0.0/61.0 kB ? eta -:--:--\n",
      "     ------ --------------------------------- 10.2/61.0 kB ? eta -:--:--\n",
      "     -------------------------------------- 61.0/61.0 kB 651.3 kB/s eta 0:00:00\n",
      "Requirement already satisfied: python-dateutil>=2.8.2 in c:\\users\\admin\\appdata\\roaming\\python\\python312\\site-packages (from pandas) (2.9.0.post0)\n",
      "Collecting pytz>=2020.1 (from pandas)\n",
      "  Downloading pytz-2024.1-py2.py3-none-any.whl.metadata (22 kB)\n",
      "Collecting tzdata>=2022.7 (from pandas)\n",
      "  Downloading tzdata-2024.1-py2.py3-none-any.whl.metadata (1.4 kB)\n",
      "Requirement already satisfied: six>=1.5 in c:\\users\\admin\\appdata\\roaming\\python\\python312\\site-packages (from python-dateutil>=2.8.2->pandas) (1.16.0)\n",
      "Downloading pandas-2.2.2-cp312-cp312-win_amd64.whl (11.5 MB)\n",
      "   ---------------------------------------- 0.0/11.5 MB ? eta -:--:--\n",
      "   ---------------------------------------- 0.1/11.5 MB 2.6 MB/s eta 0:00:05\n",
      "    --------------------------------------- 0.2/11.5 MB 2.3 MB/s eta 0:00:05\n",
      "   - -------------------------------------- 0.4/11.5 MB 2.7 MB/s eta 0:00:05\n",
      "   - -------------------------------------- 0.6/11.5 MB 3.5 MB/s eta 0:00:04\n",
      "   --- ------------------------------------ 0.9/11.5 MB 3.9 MB/s eta 0:00:03\n",
      "   ---- ----------------------------------- 1.4/11.5 MB 4.8 MB/s eta 0:00:03\n",
      "   ------ --------------------------------- 1.9/11.5 MB 5.8 MB/s eta 0:00:02\n",
      "   ------ --------------------------------- 1.9/11.5 MB 5.8 MB/s eta 0:00:02\n",
      "   ------ --------------------------------- 1.9/11.5 MB 5.8 MB/s eta 0:00:02\n",
      "   --------- ------------------------------ 2.7/11.5 MB 5.9 MB/s eta 0:00:02\n",
      "   ---------- ----------------------------- 3.1/11.5 MB 6.1 MB/s eta 0:00:02\n",
      "   ------------ --------------------------- 3.6/11.5 MB 6.6 MB/s eta 0:00:02\n",
      "   -------------- ------------------------- 4.3/11.5 MB 7.2 MB/s eta 0:00:02\n",
      "   ---------------- ----------------------- 4.8/11.5 MB 7.5 MB/s eta 0:00:01\n",
      "   ----------------- ---------------------- 5.0/11.5 MB 7.6 MB/s eta 0:00:01\n",
      "   ----------------- ---------------------- 5.0/11.5 MB 7.6 MB/s eta 0:00:01\n",
      "   -------------------- ------------------- 5.8/11.5 MB 7.4 MB/s eta 0:00:01\n",
      "   ------------------------ --------------- 7.0/11.5 MB 8.4 MB/s eta 0:00:01\n",
      "   -------------------------- ------------- 7.5/11.5 MB 8.6 MB/s eta 0:00:01\n",
      "   ---------------------------- ----------- 8.1/11.5 MB 8.8 MB/s eta 0:00:01\n",
      "   ------------------------------ --------- 8.6/11.5 MB 8.9 MB/s eta 0:00:01\n",
      "   ------------------------------- -------- 9.2/11.5 MB 9.0 MB/s eta 0:00:01\n",
      "   --------------------------------- ------ 9.7/11.5 MB 9.2 MB/s eta 0:00:01\n",
      "   ----------------------------------- ---- 10.3/11.5 MB 9.4 MB/s eta 0:00:01\n",
      "   ------------------------------------- -- 10.8/11.5 MB 10.6 MB/s eta 0:00:01\n",
      "   ---------------------------------------  11.4/11.5 MB 10.7 MB/s eta 0:00:01\n",
      "   ---------------------------------------- 11.5/11.5 MB 10.7 MB/s eta 0:00:00\n",
      "Downloading numpy-1.26.4-cp312-cp312-win_amd64.whl (15.5 MB)\n",
      "   ---------------------------------------- 0.0/15.5 MB ? eta -:--:--\n",
      "   - -------------------------------------- 0.6/15.5 MB 12.0 MB/s eta 0:00:02\n",
      "   -- ------------------------------------- 1.1/15.5 MB 11.7 MB/s eta 0:00:02\n",
      "   ---- ----------------------------------- 1.7/15.5 MB 11.8 MB/s eta 0:00:02\n",
      "   ----- ---------------------------------- 2.2/15.5 MB 11.7 MB/s eta 0:00:02\n",
      "   ------- -------------------------------- 2.8/15.5 MB 11.7 MB/s eta 0:00:02\n",
      "   -------- ------------------------------- 3.3/15.5 MB 12.4 MB/s eta 0:00:01\n",
      "   --------- ------------------------------ 3.9/15.5 MB 12.3 MB/s eta 0:00:01\n",
      "   ----------- ---------------------------- 4.4/15.5 MB 12.2 MB/s eta 0:00:01\n",
      "   ------------ --------------------------- 5.0/15.5 MB 12.2 MB/s eta 0:00:01\n",
      "   -------------- ------------------------- 5.5/15.5 MB 12.1 MB/s eta 0:00:01\n",
      "   --------------- ------------------------ 6.0/15.5 MB 12.1 MB/s eta 0:00:01\n",
      "   ----------------- ---------------------- 6.6/15.5 MB 12.1 MB/s eta 0:00:01\n",
      "   ------------------ --------------------- 7.1/15.5 MB 12.0 MB/s eta 0:00:01\n",
      "   ------------------- -------------------- 7.7/15.5 MB 12.0 MB/s eta 0:00:01\n",
      "   --------------------- ------------------ 8.2/15.5 MB 12.0 MB/s eta 0:00:01\n",
      "   ---------------------- ----------------- 8.8/15.5 MB 11.9 MB/s eta 0:00:01\n",
      "   ------------------------ --------------- 9.3/15.5 MB 11.9 MB/s eta 0:00:01\n",
      "   ------------------------- -------------- 9.9/15.5 MB 11.9 MB/s eta 0:00:01\n",
      "   -------------------------- ------------- 10.4/15.5 MB 11.9 MB/s eta 0:00:01\n",
      "   ---------------------------- ----------- 11.0/15.5 MB 11.9 MB/s eta 0:00:01\n",
      "   ----------------------------- ---------- 11.5/15.5 MB 11.9 MB/s eta 0:00:01\n",
      "   ------------------------------- -------- 12.1/15.5 MB 11.9 MB/s eta 0:00:01\n",
      "   -------------------------------- ------- 12.6/15.5 MB 11.7 MB/s eta 0:00:01\n",
      "   --------------------------------- ------ 13.1/15.5 MB 11.7 MB/s eta 0:00:01\n",
      "   ----------------------------------- ---- 13.7/15.5 MB 11.7 MB/s eta 0:00:01\n",
      "   ------------------------------------ --- 14.2/15.5 MB 11.7 MB/s eta 0:00:01\n",
      "   -------------------------------------- - 14.8/15.5 MB 11.7 MB/s eta 0:00:01\n",
      "   ---------------------------------------  15.3/15.5 MB 11.7 MB/s eta 0:00:01\n",
      "   ---------------------------------------- 15.5/15.5 MB 11.5 MB/s eta 0:00:00\n",
      "Downloading pytz-2024.1-py2.py3-none-any.whl (505 kB)\n",
      "   ---------------------------------------- 0.0/505.5 kB ? eta -:--:--\n",
      "   --------------------------------------  501.8/505.5 kB 10.5 MB/s eta 0:00:01\n",
      "   --------------------------------------- 505.5/505.5 kB 10.5 MB/s eta 0:00:00\n",
      "Downloading tzdata-2024.1-py2.py3-none-any.whl (345 kB)\n",
      "   ---------------------------------------- 0.0/345.4 kB ? eta -:--:--\n",
      "   --------------------------------------- 345.4/345.4 kB 10.5 MB/s eta 0:00:00\n",
      "Installing collected packages: pytz, tzdata, numpy, pandas\n",
      "Successfully installed numpy-1.26.4 pandas-2.2.2 pytz-2024.1 tzdata-2024.1\n",
      "Note: you may need to restart the kernel to use updated packages.\n"
     ]
    }
   ],
   "source": [
    "pip install pandas\n"
   ]
  },
  {
   "cell_type": "code",
   "execution_count": 5,
   "metadata": {},
   "outputs": [
    {
     "name": "stdout",
     "output_type": "stream",
     "text": [
      "O novo arquivo CSV foi salvo como: {novo_nome_arquivo}\n"
     ]
    },
    {
     "name": "stderr",
     "output_type": "stream",
     "text": [
      "C:\\Users\\admin\\AppData\\Local\\Temp\\ipykernel_8848\\69570036.py:5: DtypeWarning: Columns (0,3,4,5,6,7,8,9,10,11,12,13,14,15,16,17) have mixed types. Specify dtype option on import or set low_memory=False.\n",
      "  df = pd.read_csv(arquivo_csv)\n"
     ]
    }
   ],
   "source": [
    "import pandas as pd\n",
    "\n",
    "def converter_e_salvar_csv(arquivo_csv):\n",
    "    # Lendo o arquivo CSV\n",
    "    df = pd.read_csv(arquivo_csv)\n",
    "    \n",
    "    # Substituindo pontos por vírgulas nas colunas específicas\n",
    "    colunas_com_ponto = [\"NUMERO DE PONTOS EM PORTUGUES\", \"NÚMERO DE PONTOS EM MATEMÁTICA\"]\n",
    "    for coluna in colunas_com_ponto:\n",
    "        df[coluna] = df[coluna].str.replace('.', ',')\n",
    "    \n",
    "    # Convertendo todas as colunas para o tipo inteiro\n",
    "    for coluna in df.columns:\n",
    "        # Convertendo os valores float para inteiro e arredondando\n",
    "        if df[coluna].dtype == 'float64':\n",
    "            df[coluna] = df[coluna].round().astype(int)\n",
    "        # Convertendo os valores object para inteiro (se possível)\n",
    "        elif df[coluna].dtype == 'object':\n",
    "            try:\n",
    "                df[coluna] = df[coluna].astype(int)\n",
    "            except ValueError:\n",
    "                pass\n",
    "    \n",
    "    # Salvando o novo arquivo CSV\n",
    "    novo_nome_arquivo = arquivo_csv.split('.')[0] + '_int.csv'\n",
    "    df.to_csv(novo_nome_arquivo, index=False)\n",
    "    print('O novo arquivo CSV foi salvo como: {novo_nome_arquivo}')\n",
    "\n",
    "# Exemplo de uso\n",
    "# Substitua 'seu_arquivo.csv' pelo caminho do seu arquivo CSV\n",
    "converter_e_salvar_csv('SPAECE_Codificado.csv')\n",
    "\n",
    "\n",
    "\n",
    "\n"
   ]
  },
  {
   "cell_type": "code",
   "execution_count": 7,
   "metadata": {},
   "outputs": [
    {
     "name": "stderr",
     "output_type": "stream",
     "text": [
      "C:\\Users\\admin\\AppData\\Local\\Temp\\ipykernel_8848\\505748111.py:5: DtypeWarning: Columns (0,3,4,5,6,7,8,9,10,11,12,13,14,15,16,17) have mixed types. Specify dtype option on import or set low_memory=False.\n",
      "  df = pd.read_csv(arquivo_csv)\n"
     ]
    },
    {
     "name": "stdout",
     "output_type": "stream",
     "text": [
      "O novo arquivo CSV foi salvo como: SPAECE_Codificado_int.csv\n"
     ]
    }
   ],
   "source": [
    "import pandas as pd\n",
    "\n",
    "def converter_e_salvar_csv(arquivo_csv):\n",
    "    # Lendo o arquivo CSV\n",
    "    df = pd.read_csv(arquivo_csv)\n",
    "    \n",
    "    # Substituindo todas as vírgulas por pontos em todas as colunas\n",
    "    df = df.replace(',', '.', regex=True)\n",
    "    \n",
    "    # Convertendo todas as colunas para o tipo inteiro\n",
    "    for coluna in df.columns:\n",
    "        # Convertendo os valores float para inteiro e arredondando\n",
    "        if df[coluna].dtype == 'float64':\n",
    "            df[coluna] = df[coluna].round().astype(int)\n",
    "        # Convertendo os valores object para inteiro (se possível)\n",
    "        elif df[coluna].dtype == 'object':\n",
    "            try:\n",
    "                df[coluna] = df[coluna].astype(int)\n",
    "            except ValueError:\n",
    "                pass\n",
    "    \n",
    "    # Salvando o novo arquivo CSV\n",
    "    novo_nome_arquivo = arquivo_csv.split('.')[0] + '_int.csv'\n",
    "    df.to_csv(novo_nome_arquivo, index=False)\n",
    "    print(f'O novo arquivo CSV foi salvo como: {novo_nome_arquivo}')\n",
    "\n",
    "# Exemplo de uso\n",
    "# Substitua 'seu_arquivo.csv' pelo caminho do seu arquivo CSV\n",
    "converter_e_salvar_csv('SPAECE_Codificado.csv')\n"
   ]
  }
 ],
 "metadata": {
  "kernelspec": {
   "display_name": "Python 3",
   "language": "python",
   "name": "python3"
  },
  "language_info": {
   "codemirror_mode": {
    "name": "ipython",
    "version": 3
   },
   "file_extension": ".py",
   "mimetype": "text/x-python",
   "name": "python",
   "nbconvert_exporter": "python",
   "pygments_lexer": "ipython3",
   "version": "3.12.3"
  }
 },
 "nbformat": 4,
 "nbformat_minor": 2
}
